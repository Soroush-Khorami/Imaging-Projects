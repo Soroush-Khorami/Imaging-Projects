{
  "cells": [
    {
      "cell_type": "code",
      "execution_count": 91,
      "metadata": {
        "id": "lIYdn1woOS1n"
      },
      "outputs": [],
      "source": [
        "from keras.applications import VGG16\n",
        "from keras.applications.vgg16 import preprocess_input, decode_predictions\n",
        "\n",
        "from keras.preprocessing.image import load_img, img_to_array\n",
        "from tensorflow import expand_dims\n",
        "import numpy as np\n",
        "import matplotlib.pyplot as plt"
      ]
    },
    {
      "cell_type": "code",
      "source": [
        "pre_trained_model = VGG16(weights='imagenet')"
      ],
      "metadata": {
        "id": "jjYpl18o3n5x"
      },
      "execution_count": 32,
      "outputs": []
    },
    {
      "cell_type": "code",
      "source": [
        "path_img = ['goldfish.jpg', 'p0gwb4l3.jpg']\n",
        "for i in range(len(path_img)):\n",
        "\n",
        "  img = load_img(path_img[i], target_size=(224, 224, 3))\n",
        "\n",
        "  #show the loaded image\n",
        "  #plt.imshow(img)\n",
        "  # covert to array\n",
        "  arr_img = img_to_array(img)\n",
        "  # print('array_image shape: ', arr_img.shape)\n",
        "\n",
        "  # add the dummy dimension\n",
        "  # arr_img = np.expand_dims(arr_img, axis=0)\n",
        "  arr_img = expand_dims(arr_img, axis=0)\n",
        "  #print('array_image shape after add first dim: ', arr_img.shape)\n",
        "\n",
        "  vgg_img = preprocess_input(arr_img)\n",
        "  y_pred = pre_trained_model.predict(vgg_img)\n",
        "  prediction = decode_predictions(y_pred, top=1)\n",
        "  print(prediction)"
      ],
      "metadata": {
        "colab": {
          "base_uri": "https://localhost:8080/"
        },
        "id": "KKb1LsSL7MKs",
        "outputId": "f68f032e-d25a-450c-9f95-a18a3c57621c"
      },
      "execution_count": 64,
      "outputs": [
        {
          "output_type": "stream",
          "name": "stdout",
          "text": [
            "1/1 [==============================] - 1s 614ms/step\n",
            "[[('n01443537', 'goldfish', 0.5276593)]]\n",
            "1/1 [==============================] - 1s 533ms/step\n",
            "[[('n01494475', 'hammerhead', 0.6272273)]]\n"
          ]
        }
      ]
    },
    {
      "cell_type": "code",
      "source": [
        "import torch\n",
        "from torchvision.models import vgg16\n",
        "from torchvision import transforms\n",
        "from torchvision.io import read_image\n",
        "from PIL import Image"
      ],
      "metadata": {
        "id": "su2lo9qRTPQz"
      },
      "execution_count": 111,
      "outputs": []
    },
    {
      "cell_type": "code",
      "source": [
        "pytorch_model = vgg16(pretrained=True)\n",
        "\n",
        "#batch_normalization & Drop_out freezing\n",
        "pytorch_model.eval()\n",
        "\n",
        "# input preprocessing\n",
        "preprocess_transform = transforms.Compose([transforms.Resize(256),\n",
        "                                           transforms.CenterCrop(224),\n",
        "                                           transforms.ToTensor(),\n",
        "                                           transforms.Normalize(mean=[0.485, 0.456, 0.406],\n",
        "                                                                      std=[0.229, 0.224, 0.225]),\n",
        "                                           ])\n",
        "\n",
        "path_img = 'goldfish.jpg'\n",
        "img = Image.open(path_img)\n",
        "\n",
        "proc_img = preprocess_transform(img)\n",
        "#proc_img.shape\n",
        "#plt.imshow(proc_img.cpu().permute(1, 2, 0).numpy())\n",
        "torch_img = torch.unsqueeze(proc_img, 0)\n",
        "#torch_img.shape\n",
        "#torch_img = torch_img.to(torch.float)  # Convert to float\n",
        "\n",
        "with torch.no_grad():\n",
        "  pred = pytorch_model(torch_img)"
      ],
      "metadata": {
        "id": "4DMmeBOLT8w1"
      },
      "execution_count": 115,
      "outputs": []
    },
    {
      "cell_type": "code",
      "source": [
        "# Print top 5 predictions (indices)\n",
        "_, indices = torch.sort(pred, descending=True)\n",
        "print(indices[0][:5])"
      ],
      "metadata": {
        "colab": {
          "base_uri": "https://localhost:8080/"
        },
        "id": "3tNMZTJwgdCZ",
        "outputId": "a57ea65e-3f5f-49cf-d354-8ea4904f9234"
      },
      "execution_count": 116,
      "outputs": [
        {
          "output_type": "stream",
          "name": "stdout",
          "text": [
            "tensor([  1, 719, 902,  88, 392])\n"
          ]
        }
      ]
    },
    {
      "cell_type": "markdown",
      "source": [
        "شهرام رسوليان: It can help reduce the chance of merge conflicts in version control systems like Git. When each element in a list, tuple, or dictionary is on a separate line with a trailing comma, changes to individual elements are less likely to conflict with changes made by other developers."
      ],
      "metadata": {
        "id": "zWFagNeBWwZH"
      }
    },
    {
      "cell_type": "code",
      "source": [
        "import json\n",
        "import urllib.request\n",
        "\n",
        "# Download the imagenet class index\n",
        "url = \"https://storage.googleapis.com/download.tensorflow.org/data/imagenet_class_index.json\"\n",
        "imagenet_classes = json.loads(urllib.request.urlopen(url).read().decode())\n",
        "\n",
        "# Assuming `indices` is a tensor of predicted class indices\n",
        "for idx in indices[0][:5]:\n",
        "    class_id = str(idx.item())\n",
        "    print(imagenet_classes[class_id][1])"
      ],
      "metadata": {
        "colab": {
          "base_uri": "https://localhost:8080/"
        },
        "id": "56BgwcCaZ4a9",
        "outputId": "4f8064e5-c473-4db0-f413-999da836c1ca"
      },
      "execution_count": 117,
      "outputs": [
        {
          "output_type": "stream",
          "name": "stdout",
          "text": [
            "goldfish\n",
            "piggy_bank\n",
            "whistle\n",
            "macaw\n",
            "rock_beauty\n"
          ]
        }
      ]
    }
  ],
  "metadata": {
    "colab": {
      "provenance": []
    },
    "kernelspec": {
      "display_name": "Python 3",
      "name": "python3"
    }
  },
  "nbformat": 4,
  "nbformat_minor": 0
}