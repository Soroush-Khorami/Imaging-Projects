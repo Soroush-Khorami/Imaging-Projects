{
  "cells": [
    {
      "cell_type": "code",
      "execution_count": 1,
      "metadata": {
        "colab": {
          "base_uri": "https://localhost:8080/"
        },
        "id": "lIYdn1woOS1n",
        "outputId": "4b8f7422-20c7-410c-94df-3cfaf14eb747"
      },
      "outputs": [
        {
          "output_type": "stream",
          "name": "stdout",
          "text": [
            "Cloning into 'HodaDatasetReader'...\n",
            "remote: Enumerating objects: 24, done.\u001b[K\n",
            "remote: Total 24 (delta 0), reused 0 (delta 0), pack-reused 24\u001b[K\n",
            "Unpacking objects: 100% (24/24), done.\n"
          ]
        }
      ],
      "source": [
        "!git clone https://github.com/amir-saniyan/HodaDatasetReader.git"
      ]
    },
    {
      "cell_type": "code",
      "source": [
        "import matplotlib.pyplot as plt\n",
        "from HodaDatasetReader.HodaDatasetReader import read_hoda_dataset"
      ],
      "metadata": {
        "id": "uI0yEKZck_wy"
      },
      "execution_count": 2,
      "outputs": []
    },
    {
      "cell_type": "code",
      "source": [
        "X_train, y_train = read_hoda_dataset('/content/HodaDatasetReader/DigitDB/Train 60000.cdb')\n",
        "X_test, y_test = read_hoda_dataset('/content/HodaDatasetReader/DigitDB/Test 20000.cdb')"
      ],
      "metadata": {
        "id": "9ySdmm1ziT2O"
      },
      "execution_count": 3,
      "outputs": []
    },
    {
      "cell_type": "code",
      "source": [
        "X_train.shape"
      ],
      "metadata": {
        "id": "cy4rnPafmK_y",
        "outputId": "0938a90f-ad8e-4821-e7a6-b5c93b658aba",
        "colab": {
          "base_uri": "https://localhost:8080/"
        }
      },
      "execution_count": 12,
      "outputs": [
        {
          "output_type": "execute_result",
          "data": {
            "text/plain": [
              "(60000, 1024)"
            ]
          },
          "metadata": {},
          "execution_count": 12
        }
      ]
    },
    {
      "cell_type": "code",
      "source": [
        "plt.figure(figsize=(12,5))\n",
        "for i in range(10):\n",
        "  plt.subplot(2, 5, i+1)\n",
        "  plt.imshow(X_train[i].reshape(32,32))\n",
        "  plt.title(y_train[i])\n",
        "\n",
        "plt.tight_layout()\n",
        "plt.show() "
      ],
      "metadata": {
        "colab": {
          "base_uri": "https://localhost:8080/",
          "height": 370
        },
        "id": "VIKa96gqn9cm",
        "outputId": "b922dd2f-328c-44e3-8e84-384f4b580fc9"
      },
      "execution_count": 14,
      "outputs": [
        {
          "output_type": "display_data",
          "data": {
            "text/plain": [
              "<Figure size 864x360 with 10 Axes>"
            ],
            "image/png": "[encoded data removed]"
          },
          "metadata": {
            "needs_background": "light"
          }
        }
      ]
    },
    {
      "cell_type": "code",
      "source": [
        "from sklearn.svm import SVC\n",
        "from time import perf_counter\n",
        "import numpy as np\n",
        "start_tra = perf_counter()\n",
        "hoda_svc = SVC(kernel='linear', C=np.inf)\n",
        "hoda_svc.fit(X_train[:20000], y_train[:20000])\n",
        "end_tra = perf_counter()\n",
        "print(f'train phase time: ', round((end_tra-start_tra), 1))"
      ],
      "metadata": {
        "id": "YlSW29Z8mCxg",
        "colab": {
          "base_uri": "https://localhost:8080/"
        },
        "outputId": "5d6a6c75-89e9-4493-9b7f-b01fb50ac99d"
      },
      "execution_count": 39,
      "outputs": [
        {
          "output_type": "stream",
          "name": "stdout",
          "text": [
            "train phase time:  26.8\n"
          ]
        }
      ]
    },
    {
      "cell_type": "code",
      "source": [
        "start_ts = perf_counter()\n",
        "print('acc:', round(hoda_svc.score(X_test, y_test), 2))\n",
        "end_ts = perf_counter()\n",
        "print(f'test phase time: ', round((end_ts-start_ts), 1))"
      ],
      "metadata": {
        "colab": {
          "base_uri": "https://localhost:8080/"
        },
        "id": "KigtdSz4m04t",
        "outputId": "d5bfdfbe-a5c3-4d37-b767-a4ff5e1d35da"
      },
      "execution_count": 40,
      "outputs": [
        {
          "output_type": "stream",
          "name": "stdout",
          "text": [
            "acc: 0.93\n",
            "test phase time:  52.4\n"
          ]
        }
      ]
    }
  ],
  "metadata": {
    "colab": {
      "name": "DS02-Session05-SVM02-Hoda_Classification",
      "provenance": [],
      "collapsed_sections": []
    },
    "kernelspec": {
      "display_name": "Python 3",
      "name": "python3"
    }
  },
  "nbformat": 4,
  "nbformat_minor": 0
}